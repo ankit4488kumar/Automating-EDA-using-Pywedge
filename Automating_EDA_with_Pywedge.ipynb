{
  "nbformat": 4,
  "nbformat_minor": 0,
  "metadata": {
    "colab": {
      "name": "Automating_EDA_with_Pywedge.ipynb",
      "private_outputs": true,
      "provenance": []
    },
    "kernelspec": {
      "name": "python3",
      "display_name": "Python 3"
    },
    "language_info": {
      "name": "python"
    }
  },
  "cells": [
    {
      "cell_type": "code",
      "source": [
        "import pywedge as pw"
      ],
      "metadata": {
        "id": "tLK56sGXhsQ8"
      },
      "execution_count": null,
      "outputs": []
    },
    {
      "cell_type": "code",
      "source": [
        "!pip install pywedge"
      ],
      "metadata": {
        "id": "vGySsRhnsuRn"
      },
      "execution_count": null,
      "outputs": []
    },
    {
      "cell_type": "code",
      "source": [
        "import seaborn as sns\n",
        "df = sns.load_dataset(\"tips\")\n",
        "df.head()"
      ],
      "metadata": {
        "id": "faXxWtEXs4Xj"
      },
      "execution_count": null,
      "outputs": []
    },
    {
      "cell_type": "code",
      "source": [
        "mc = pw.Pywedge_Charts(df, c=None, y=\"tip\" )\n",
        "# For Visualization\n",
        "chart = mc.make_charts()"
      ],
      "metadata": {
        "id": "hQECs1zatC7k"
      },
      "execution_count": null,
      "outputs": []
    },
    {
      "cell_type": "code",
      "source": [
        ""
      ],
      "metadata": {
        "id": "bJuldLd9tLea"
      },
      "execution_count": null,
      "outputs": []
    }
  ]
}